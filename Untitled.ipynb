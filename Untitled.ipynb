{
 "cells": [
  {
   "cell_type": "markdown",
   "metadata": {},
   "source": [
    "# Crimes in Chicago"
   ]
  },
  {
   "cell_type": "markdown",
   "metadata": {},
   "source": [
    "## Imports"
   ]
  },
  {
   "cell_type": "code",
   "execution_count": 6,
   "metadata": {},
   "outputs": [],
   "source": [
    "import numpy as np\n",
    "from csv import DictReader\n",
    "import operator\n",
    "import math\n",
    "from operator import itemgetter\n",
    "import matplotlib.pyplot as plt\n",
    "from datetime import datetime\n",
    "\n",
    "from scipy import stats\n",
    "\n",
    "import matplotlib.pyplot as plt\n",
    "import matplotlib.lines as mlines\n",
    "import matplotlib.transforms as mtransforms\n",
    "\n",
    "from math import isnan"
   ]
  },
  {
   "cell_type": "markdown",
   "metadata": {},
   "source": [
    "## Data structures"
   ]
  },
  {
   "cell_type": "code",
   "execution_count": 8,
   "metadata": {},
   "outputs": [],
   "source": [
    "\n",
    "\n",
    "crimeDict = {} #np.array([[], [], [], [], [], [], [], [], [], [], [], [], [], [], [], [], [], [], [], []])\n",
    "# ID\n",
    "# Case Number\n",
    "# Date\n",
    "# Block\n",
    "# IUCR\n",
    "# Primary Type\n",
    "# Description\n",
    "# Location Description\n",
    "# Arrest\n",
    "# Domestic\n",
    "# Beat\n",
    "# District\n",
    "# Ward\n",
    "# Community Area\n",
    "# FBI Code\n",
    "# X Coordinate\n",
    "# Y Coordinate\n",
    "# Year\n",
    "# Updated On\n",
    "# Latitude\n",
    "# Longitude\n",
    "# Location\n",
    "\n",
    "crimeDict[\"ID\"] = []\n",
    "crimeDict[\"CaseNumber\"] = []\n",
    "crimeDict[\"Date\"] = []\n",
    "crimeDict[\"Block\"] = []\n",
    "crimeDict[\"IUCR\"] = []\n",
    "crimeDict[\"PrimaryType\"] = []\n",
    "crimeDict[\"Description\"] = []\n",
    "crimeDict[\"LocationDescription\"] = []\n",
    "crimeDict[\"Arrest\"] = []\n",
    "crimeDict[\"Domestic\"] = []\n",
    "crimeDict[\"Beat\"] = []\n",
    "crimeDict[\"District\"] = []\n",
    "crimeDict[\"Ward\"] = []\n",
    "crimeDict[\"CommunityArea\"] = []\n",
    "crimeDict[\"FBICode\"] = []\n",
    "crimeDict[\"XCoordinate\"] = []\n",
    "crimeDict[\"YCoordinate\"] = []\n",
    "crimeDict[\"Year\"] = []\n",
    "crimeDict[\"UpdatedOn\"] = []\n",
    "crimeDict[\"Latitude\"] = []\n",
    "crimeDict[\"Longitude\"] = []\n",
    "crimeDict[\"Location\"] = []"
   ]
  },
  {
   "cell_type": "markdown",
   "metadata": {},
   "source": [
    "## Readers"
   ]
  },
  {
   "cell_type": "code",
   "execution_count": 3,
   "metadata": {},
   "outputs": [
    {
     "data": {
      "text/plain": [
       "'4673324'"
      ]
     },
     "execution_count": 3,
     "metadata": {},
     "output_type": "execute_result"
    }
   ],
   "source": [
    "reader = DictReader(open('Chicago_Crimes_2001_to_2004.csv', 'rt', encoding='utf-8'))\n",
    "for row in reader:\n",
    "    crimeDict[\"ID\"].append(row[\"ID\"])\n",
    "    crimeDict[\"CaseNumber\"].append(row[\"Case Number\"])\n",
    "    crimeDict[\"Date\"].append(row[\"Date\"])\n",
    "    crimeDict[\"Block\"].append(row[\"Block\"])\n",
    "    crimeDict[\"IUCR\"].append(row[\"IUCR\"])\n",
    "    crimeDict[\"PrimaryType\"].append(row[\"Primary Type\"])\n",
    "    crimeDict[\"Description\"].append(row[\"Description\"])\n",
    "    crimeDict[\"LocationDescription\"].append(row[\"Location Description\"])\n",
    "    crimeDict[\"Arrest\"].append(row[\"Arrest\"])\n",
    "    crimeDict[\"Domestic\"].append(row[\"Domestic\"])\n",
    "    crimeDict[\"Beat\"].append(row[\"Beat\"])\n",
    "    crimeDict[\"District\"].append(row[\"District\"])\n",
    "    crimeDict[\"Ward\"].append(row[\"Ward\"])\n",
    "    crimeDict[\"CommunityArea\"].append(row[\"Community Area\"])\n",
    "    crimeDict[\"FBICode\"].append(row[\"FBI Code\"])\n",
    "    crimeDict[\"XCoordinate\"].append(row[\"X Coordinate\"])\n",
    "    crimeDict[\"YCoordinate\"].append(row[\"Y Coordinate\"])\n",
    "    crimeDict[\"Year\"].append(row[\"Year\"])\n",
    "    crimeDict[\"UpdatedOn\"].append(row[\"Updated On\"])\n",
    "    crimeDict[\"Latitude\"].append(row[\"Latitude\"])\n",
    "    crimeDict[\"Longitude\"].append(row[\"Longitude\"])\n",
    "    crimeDict[\"Location\"].append(row[\"Location\"])\n",
    "\n",
    "crimeDict[\"ID\"]"
   ]
  }
 ],
 "metadata": {
  "kernelspec": {
   "display_name": "Python 3",
   "language": "python",
   "name": "python3"
  },
  "language_info": {
   "codemirror_mode": {
    "name": "ipython",
    "version": 3
   },
   "file_extension": ".py",
   "mimetype": "text/x-python",
   "name": "python",
   "nbconvert_exporter": "python",
   "pygments_lexer": "ipython3",
   "version": "3.6.4"
  }
 },
 "nbformat": 4,
 "nbformat_minor": 2
}
