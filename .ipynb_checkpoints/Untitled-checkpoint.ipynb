{
 "cells": [
  {
   "cell_type": "markdown",
   "metadata": {},
   "source": [
    "# Crimes in Chicago"
   ]
  },
  {
   "cell_type": "markdown",
   "metadata": {},
   "source": [
    "## Imports"
   ]
  },
  {
   "cell_type": "code",
   "execution_count": 55,
   "metadata": {},
   "outputs": [],
   "source": [
    "import numpy as np\n",
    "from csv import DictReader\n",
    "import operator\n",
    "import math\n",
    "from operator import itemgetter\n",
    "import matplotlib.pyplot as plt\n",
    "from datetime import datetime\n",
    "from collections import defaultdict\n",
    "\n",
    "from scipy import stats\n",
    "\n",
    "import matplotlib.pyplot as plt\n",
    "import matplotlib.lines as mlines\n",
    "import matplotlib.transforms as mtransforms\n",
    "\n",
    "from math import isnan"
   ]
  },
  {
   "cell_type": "code",
   "execution_count": 57,
   "metadata": {},
   "outputs": [],
   "source": [
    "plt.rcParams[\"figure.figsize\"] = (15,5)"
   ]
  },
  {
   "cell_type": "markdown",
   "metadata": {},
   "source": [
    "## Data structures"
   ]
  },
  {
   "cell_type": "code",
   "execution_count": 58,
   "metadata": {},
   "outputs": [],
   "source": [
    "crimeDict = {} #np.array([[], [], [], [], [], [], [], [], [], [], [], [], [], [], [], [], [], [], [], []])\n",
    "# ID\n",
    "# Case Number\n",
    "# Date\n",
    "# Block\n",
    "# IUCR\n",
    "# Primary Type\n",
    "# Description\n",
    "# Location Description\n",
    "# Arrest\n",
    "# Domestic\n",
    "# Beat\n",
    "# District\n",
    "# Ward\n",
    "# Community Area\n",
    "# FBI Code\n",
    "# X Coordinate\n",
    "# Y Coordinate\n",
    "# Year\n",
    "# Updated On\n",
    "# Latitude\n",
    "# Longitude\n",
    "# Location\n",
    "\n",
    "def setYearDicts ():\n",
    "    cd = {}\n",
    "    cd[\"ID\"] = []\n",
    "    cd[\"CaseNumber\"] = []\n",
    "    cd[\"Date\"] = []\n",
    "    cd[\"Block\"] = []\n",
    "    cd[\"IUCR\"] = []\n",
    "    cd[\"PrimaryType\"] = []\n",
    "    cd[\"Description\"] = []\n",
    "    cd[\"LocationDescription\"] = []\n",
    "    cd[\"Arrest\"] = []\n",
    "    cd[\"Domestic\"] = []\n",
    "    cd[\"Beat\"] = []\n",
    "    cd[\"District\"] = []\n",
    "    cd[\"Ward\"] = []\n",
    "    cd[\"CommunityArea\"] = []\n",
    "    cd[\"FBICode\"] = []\n",
    "    cd[\"XCoordinate\"] = []\n",
    "    cd[\"YCoordinate\"] = []\n",
    "    cd[\"Year\"] = []\n",
    "    cd[\"UpdatedOn\"] = []\n",
    "    cd[\"Latitude\"] = []\n",
    "    cd[\"Longitude\"] = []\n",
    "    cd[\"Location\"] = []\n",
    "    return cd\n",
    "\n",
    "crimes = 0"
   ]
  },
  {
   "cell_type": "markdown",
   "metadata": {},
   "source": [
    "## Readers"
   ]
  },
  {
   "cell_type": "code",
   "execution_count": 59,
   "metadata": {},
   "outputs": [],
   "source": [
    "reader1 = DictReader(open('Chicago_Crimes_2001_to_2004.csv', 'rt', encoding='utf-8'))\n",
    "reader2 = DictReader(open('Chicago_Crimes_2005_to_2007.csv', 'rt', encoding='utf-8'))\n",
    "reader3 = DictReader(open('Chicago_Crimes_2008_to_2011.csv', 'rt', encoding='utf-8'))\n",
    "reader4 = DictReader(open('Chicago_Crimes_2012_to_2017.csv', 'rt', encoding='utf-8'))\n",
    "for x in range(4):\n",
    "    if (x == 0):\n",
    "        reader = reader1\n",
    "    if (x == 1):\n",
    "        reader = reader2\n",
    "        \n",
    "    if (x == 2):\n",
    "        reader = reader3\n",
    "        \n",
    "    if (x == 3):\n",
    "        reader = reader4\n",
    "\n",
    "\n",
    "    for row in reader:\n",
    "        if row[\"Year\"] not in crimeDict:\n",
    "            crimeDict[row[\"Year\"]] = setYearDicts()\n",
    "            \n",
    "        crimes += 1\n",
    "\n",
    "        crimeDict[row[\"Year\"]][\"ID\"].append(row[\"ID\"])\n",
    "        crimeDict[row[\"Year\"]][\"CaseNumber\"].append(row[\"Case Number\"])\n",
    "        crimeDict[row[\"Year\"]][\"Date\"].append(row[\"Date\"])\n",
    "        crimeDict[row[\"Year\"]][\"Block\"].append(row[\"Block\"])\n",
    "        crimeDict[row[\"Year\"]][\"IUCR\"].append(row[\"IUCR\"])\n",
    "        crimeDict[row[\"Year\"]][\"PrimaryType\"].append(row[\"Primary Type\"])\n",
    "        crimeDict[row[\"Year\"]][\"Description\"].append(row[\"Description\"])\n",
    "        crimeDict[row[\"Year\"]][\"LocationDescription\"].append(row[\"Location Description\"])\n",
    "        crimeDict[row[\"Year\"]][\"Arrest\"].append(row[\"Arrest\"])\n",
    "        crimeDict[row[\"Year\"]][\"Domestic\"].append(row[\"Domestic\"])\n",
    "        crimeDict[row[\"Year\"]][\"Beat\"].append(row[\"Beat\"])\n",
    "        crimeDict[row[\"Year\"]][\"District\"].append(row[\"District\"])\n",
    "        crimeDict[row[\"Year\"]][\"Ward\"].append(row[\"Ward\"])\n",
    "        crimeDict[row[\"Year\"]][\"CommunityArea\"].append(row[\"Community Area\"])\n",
    "        crimeDict[row[\"Year\"]][\"FBICode\"].append(row[\"FBI Code\"])\n",
    "        crimeDict[row[\"Year\"]][\"XCoordinate\"].append(row[\"X Coordinate\"])\n",
    "        crimeDict[row[\"Year\"]][\"YCoordinate\"].append(row[\"Y Coordinate\"])\n",
    "\n",
    "        try:\n",
    "            if(2001 <= int(row[\"Year\"]) <= 2017):\n",
    "                crimeDict[row[\"Year\"]][\"Year\"].append(row[\"Year\"])\n",
    "\n",
    "        except:\n",
    "            pass\n",
    "\n",
    "        crimeDict[row[\"Year\"]][\"UpdatedOn\"].append(row[\"Updated On\"])\n",
    "        crimeDict[row[\"Year\"]][\"Latitude\"].append(row[\"Latitude\"])\n",
    "        crimeDict[row[\"Year\"]][\"Longitude\"].append(row[\"Longitude\"])\n",
    "        crimeDict[row[\"Year\"]][\"Location\"].append(row[\"Location\"])\n"
   ]
  },
  {
   "cell_type": "markdown",
   "metadata": {},
   "source": [
    "## Crime distribution over the years"
   ]
  },
  {
   "cell_type": "code",
   "execution_count": 60,
   "metadata": {},
   "outputs": [],
   "source": [
    "# Get crimes/year\n",
    "years = []\n",
    "count = []\n",
    "\n",
    "for year in crimeDict:\n",
    "    if year not in years and (2001 <= float(year) <= 2016):\n",
    "        years.append(year)\n",
    "        \n",
    "    if (2001 <= float(year) <= 2016):\n",
    "        count.append(len(crimeDict[year][\"ID\"]))"
   ]
  },
  {
   "cell_type": "code",
   "execution_count": 61,
   "metadata": {},
   "outputs": [],
   "source": [
    "# Get averages instead of full counts.\n",
    "count = [(c / crimes) * 100 for c in count]"
   ]
  },
  {
   "cell_type": "code",
   "execution_count": 62,
   "metadata": {},
   "outputs": [
    {
     "data": {
      "text/plain": [
       "[4.888441214292298,\n",
       " 5.992897370248943,\n",
       " 7.159006024718422,\n",
       " 6.181355559126207,\n",
       " 10.006996349708688,\n",
       " 5.739764501559193,\n",
       " 7.8305850791887055,\n",
       " 10.72941101212348,\n",
       " 9.871199669977802,\n",
       " 4.433363672675602,\n",
       " 8.823409413389573,\n",
       " 3.342809550697343,\n",
       " 3.31174404542137,\n",
       " 4.226898320221264,\n",
       " 3.456959856869494,\n",
       " 3.8621336297757387]"
      ]
     },
     "execution_count": 62,
     "metadata": {},
     "output_type": "execute_result"
    }
   ],
   "source": [
    "count"
   ]
  },
  {
   "cell_type": "code",
   "execution_count": 64,
   "metadata": {},
   "outputs": [
    {
     "data": {
      "text/plain": [
       "Text(0,0.5,'Count verage in %')"
      ]
     },
     "execution_count": 64,
     "metadata": {},
     "output_type": "execute_result"
    },
    {
     "data": {
      "image/png": "[encoded data removed]",
      "text/plain": [
       "<matplotlib.figure.Figure at 0x1d11ab06a0>"
      ]
     },
     "metadata": {},
     "output_type": "display_data"
    }
   ],
   "source": [
    "plt.bar(years,count,color='xkcd:coral')\n",
    "plt.xticks(rotation=90)\n",
    "plt.xlabel(\"Year\")\n",
    "plt.ylabel(\"Count verage in %\")\n"
   ]
  },
  {
   "cell_type": "markdown",
   "metadata": {},
   "source": [
    "## Po letnih časih :)"
   ]
  },
  {
   "cell_type": "code",
   "execution_count": 65,
   "metadata": {},
   "outputs": [],
   "source": [
    "seasonDict = {}"
   ]
  },
  {
   "cell_type": "code",
   "execution_count": 66,
   "metadata": {},
   "outputs": [],
   "source": [
    "for y in crimeDict:\n",
    "    for d in crimeDict[y][\"Date\"]:\n",
    "        parsed = datetime.strptime( d, \"%m/%d/%Y %I:%M:%S %p\" ).month\n",
    "        if parsed not in seasonDict:\n",
    "            seasonDict[parsed] = 0\n",
    "\n",
    "        seasonDict[parsed] += 1"
   ]
  },
  {
   "cell_type": "code",
   "execution_count": 67,
   "metadata": {},
   "outputs": [],
   "source": [
    "for m in seasonDict:\n",
    "    seasonDict[m] = (seasonDict[m] / crimes) * 100"
   ]
  },
  {
   "cell_type": "code",
   "execution_count": 68,
   "metadata": {},
   "outputs": [
    {
     "data": {
      "text/plain": [
       "{1: 8.315494068717351,\n",
       " 2: 7.104367505305187,\n",
       " 3: 8.055271666395509,\n",
       " 4: 8.181976617383285,\n",
       " 5: 9.192959224226207,\n",
       " 6: 8.962883080368364,\n",
       " 7: 9.20441832832071,\n",
       " 8: 9.123486831600532,\n",
       " 9: 8.553969358103803,\n",
       " 10: 8.656660560181452,\n",
       " 11: 7.690607715326641,\n",
       " 12: 6.957905044070959}"
      ]
     },
     "execution_count": 68,
     "metadata": {},
     "output_type": "execute_result"
    }
   ],
   "source": [
    "seasonDict"
   ]
  },
  {
   "cell_type": "code",
   "execution_count": 71,
   "metadata": {},
   "outputs": [
    {
     "data": {
      "text/plain": [
       "Text(0,0.5,'Count in %')"
      ]
     },
     "execution_count": 71,
     "metadata": {},
     "output_type": "execute_result"
    },
    {
     "data": {
      "image/png": "[encoded data removed]",
      "text/plain": [
       "<matplotlib.figure.Figure at 0x20042cc828>"
      ]
     },
     "metadata": {},
     "output_type": "display_data"
    }
   ],
   "source": [
    "x = list(seasonDict.keys())\n",
    "y = list(seasonDict.values())\n",
    "\n",
    "plt.bar(x,y,color='xkcd:coral')\n",
    "axes = plt.gca()\n",
    "plt.xlabel(\"Month\")\n",
    "plt.xticks(np.arange(min(x), max(x)+1, 1.0))\n",
    "plt.ylabel(\"Count in %\")"
   ]
  },
  {
   "cell_type": "code",
   "execution_count": 72,
   "metadata": {},
   "outputs": [],
   "source": [
    "seasons = [\"Spring\", \"Summer\", \"Fall\", \"Winter\"]\n",
    "seasonCounts = [seasonDict[4] + seasonDict[5] + seasonDict[6], seasonDict[7] + seasonDict[8] + seasonDict[9],seasonDict[10] + seasonDict[11] + seasonDict[12], seasonDict[1] + seasonDict[2] + seasonDict[3]]\n",
    "#    sum(seasonDict[4:7]),\n",
    "#    sum(seasonDict[7:10]),\n",
    "#    sum(seasonDict[10:1]),\n",
    "#    sum(seasonDict[1:4])\n"
   ]
  },
  {
   "cell_type": "code",
   "execution_count": 73,
   "metadata": {},
   "outputs": [
    {
     "data": {
      "text/plain": [
       "[26.337818921977856, 26.881874518025047, 23.30517331957905, 23.475133240418046]"
      ]
     },
     "execution_count": 73,
     "metadata": {},
     "output_type": "execute_result"
    }
   ],
   "source": [
    "seasonCounts"
   ]
  },
  {
   "cell_type": "code",
   "execution_count": 75,
   "metadata": {},
   "outputs": [
    {
     "data": {
      "text/plain": [
       "Text(0,0.5,'Count / 10000')"
      ]
     },
     "execution_count": 75,
     "metadata": {},
     "output_type": "execute_result"
    },
    {
     "data": {
      "image/png": "[encoded data removed]",
      "text/plain": [
       "<matplotlib.figure.Figure at 0x2003dd41d0>"
      ]
     },
     "metadata": {},
     "output_type": "display_data"
    }
   ],
   "source": [
    "axes = plt.gca()\n",
    "plt.bar(seasons,seasonCounts,color='xkcd:coral')\n",
    "plt.xlabel(\"Season\")\n",
    "plt.ylabel(\"Count / 10000\")\n"
   ]
  },
  {
   "cell_type": "code",
   "execution_count": 76,
   "metadata": {},
   "outputs": [
    {
     "data": {
      "text/plain": [
       "'05/03/2016 11:40:00 PM'"
      ]
     },
     "execution_count": 76,
     "metadata": {},
     "output_type": "execute_result"
    }
   ],
   "source": [
    "crimeDict[row[\"Year\"]][\"Date\"][0]"
   ]
  },
  {
   "cell_type": "code",
   "execution_count": 77,
   "metadata": {},
   "outputs": [
    {
     "data": {
      "text/plain": [
       "datetime.datetime(2016, 3, 5, 23, 40)"
      ]
     },
     "execution_count": 77,
     "metadata": {},
     "output_type": "execute_result"
    }
   ],
   "source": [
    "datetime.strptime( crimeDict[row[\"Year\"]][\"Date\"][0], \"%d/%m/%Y %I:%M:%S %p\" )"
   ]
  },
  {
   "cell_type": "code",
   "execution_count": 78,
   "metadata": {},
   "outputs": [
    {
     "data": {
      "text/plain": [
       "3"
      ]
     },
     "execution_count": 78,
     "metadata": {},
     "output_type": "execute_result"
    }
   ],
   "source": [
    "datetime.strptime( crimeDict[row[\"Year\"]][\"Date\"][0], \"%d/%m/%Y %I:%M:%S %p\" ).month"
   ]
  },
  {
   "cell_type": "code",
   "execution_count": 80,
   "metadata": {},
   "outputs": [
    {
     "data": {
      "text/plain": [
       "7941284"
      ]
     },
     "execution_count": 80,
     "metadata": {},
     "output_type": "execute_result"
    }
   ],
   "source": [
    "# crimeDict\n",
    "crimes = 0\n",
    "for i in crimeDict:\n",
    "    crimes += len(crimeDict[i][\"ID\"])\n",
    "    \n",
    "crimes"
   ]
  },
  {
   "cell_type": "markdown",
   "metadata": {},
   "source": [
    "## Distribucija kriminalov glede na tip"
   ]
  },
  {
   "cell_type": "code",
   "execution_count": 81,
   "metadata": {},
   "outputs": [],
   "source": [
    "crimeTypes = {}\n",
    "for year, value in crimeDict.items():   \n",
    "    for type in value[\"PrimaryType\"]:\n",
    "        if(type not in crimeTypes.keys()):\n",
    "            crimeTypes[type] = 1\n",
    "        else:\n",
    "            crimeTypes[type] += 1\n",
    "    "
   ]
  },
  {
   "cell_type": "code",
   "execution_count": 82,
   "metadata": {},
   "outputs": [
    {
     "data": {
      "text/plain": [
       "Text(0,0.5,'Crime Type')"
      ]
     },
     "execution_count": 82,
     "metadata": {},
     "output_type": "execute_result"
    },
    {
     "data": {
      "image/png": "[encoded data removed]",
      "text/plain": [
       "<matplotlib.figure.Figure at 0x20049ee978>"
      ]
     },
     "metadata": {},
     "output_type": "display_data"
    }
   ],
   "source": [
    "crime = []\n",
    "count = []\n",
    "for x,y in dict(sorted(crimeTypes.items(), key=lambda row:int(row[1]))).items():\n",
    "    crime.append(x)\n",
    "    count.append(float(int(y) / crimes) * 100)\n",
    "    \n",
    "fig, ax = plt.subplots(figsize=(15, 10))\n",
    "ax.barh(crime, count,color='xkcd:lavender')\n",
    "ax.set_xlabel(\"%Crime\")\n",
    "ax.set_ylabel(\"Crime Type\")  "
   ]
  },
  {
   "cell_type": "markdown",
   "metadata": {},
   "source": [
    "## Procentage of arrests"
   ]
  },
  {
   "cell_type": "code",
   "execution_count": 83,
   "metadata": {},
   "outputs": [
    {
     "name": "stdout",
     "output_type": "stream",
     "text": [
      "dict_keys(['False', 'True'])\n"
     ]
    },
    {
     "data": {
      "text/plain": [
       "(0, 1)"
      ]
     },
     "execution_count": 83,
     "metadata": {},
     "output_type": "execute_result"
    },
    {
     "data": {
      "image/png": "[encoded data removed]",
      "text/plain": [
       "<matplotlib.figure.Figure at 0x20048b7550>"
      ]
     },
     "metadata": {},
     "output_type": "display_data"
    }
   ],
   "source": [
    "arrests = defaultdict(int)\n",
    "\n",
    "for year in crimeDict:\n",
    "    for arr in crimeDict[year][\"Arrest\"]:\n",
    "        arrests[arr] += 1\n",
    "\n",
    "\n",
    "        \n",
    "print(arrests.keys())\n",
    "for key in arrests:\n",
    "    arrests[key] /= crimes\n",
    "\n",
    "axes = plt.gca()\n",
    "plt.bar(arrests.keys(),list(arrests.values()),color='xkcd:turquoise')\n",
    "plt.xlabel(\"Arrested\")\n",
    "plt.ylabel(\"Count\")\n",
    "axes.set_ylim([0,1])"
   ]
  },
  {
   "cell_type": "markdown",
   "metadata": {},
   "source": [
    "## Distribution of popular arrest locations"
   ]
  },
  {
   "cell_type": "code",
   "execution_count": 51,
   "metadata": {},
   "outputs": [
    {
     "data": {
      "text/plain": [
       "Text(0,0.5,'Location of Crime')"
      ]
     },
     "execution_count": 51,
     "metadata": {},
     "output_type": "execute_result"
    },
    {
     "data": {
      "image/png": "[encoded data removed]",
      "text/plain": [
       "<matplotlib.figure.Figure at 0x1d10edcd30>"
      ]
     },
     "metadata": {},
     "output_type": "display_data"
    }
   ],
   "source": [
    "location = defaultdict(int)\n",
    "for year in crimeDict:\n",
    "    for loc in crimeDict[year][\"LocationDescription\"]:\n",
    "        location[loc] += 1\n",
    "#location.keys()\n",
    "for loc in location:\n",
    "    location[loc] = (location[loc] / arrests) * 100\n",
    "\n",
    "\n",
    "location.pop(\"OTHER\")\n",
    "locationSorted = sorted(location.items(), key=operator.itemgetter(1), reverse=True)\n",
    "\n",
    "x = []\n",
    "y= []\n",
    "for key,value in locationSorted[:10]:\n",
    "#dict(sorted(location.items(),key=lambda row:int(row[1]),reverse=True)[:10]).items():\n",
    "    x.append(key)\n",
    "    y.append(value)\n",
    "    \n",
    "plt.barh(x,y,color='xkcd:turquoise')\n",
    "plt.xlabel(\"Count\")\n",
    "\n",
    "plt.ylabel(\"Location of Crime\")\n"
   ]
  }
 ],
 "metadata": {
  "kernelspec": {
   "display_name": "Python 3",
   "language": "python",
   "name": "python3"
  },
  "language_info": {
   "codemirror_mode": {
    "name": "ipython",
    "version": 3
   },
   "file_extension": ".py",
   "mimetype": "text/x-python",
   "name": "python",
   "nbconvert_exporter": "python",
   "pygments_lexer": "ipython3",
   "version": "3.6.4"
  }
 },
 "nbformat": 4,
 "nbformat_minor": 2
}
