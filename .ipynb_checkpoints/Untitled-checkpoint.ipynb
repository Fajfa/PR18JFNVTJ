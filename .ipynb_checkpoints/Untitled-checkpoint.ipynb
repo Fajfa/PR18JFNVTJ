{
 "cells": [
  {
   "cell_type": "markdown",
   "metadata": {},
   "source": [
    "# Crimes in Chicago"
   ]
  },
  {
   "cell_type": "markdown",
   "metadata": {},
   "source": [
    "## Imports"
   ]
  },
  {
   "cell_type": "code",
   "execution_count": 1,
   "metadata": {},
   "outputs": [],
   "source": [
    "import numpy as np\n",
    "from csv import DictReader\n",
    "import operator\n",
    "import math\n",
    "from operator import itemgetter\n",
    "import matplotlib.pyplot as plt\n",
    "from datetime import datetime\n",
    "from collections import defaultdict\n",
    "\n",
    "from scipy import stats\n",
    "\n",
    "import matplotlib.pyplot as plt\n",
    "import matplotlib.lines as mlines\n",
    "import matplotlib.transforms as mtransforms\n",
    "\n",
    "from math import isnan"
   ]
  },
  {
   "cell_type": "code",
   "execution_count": null,
   "metadata": {},
   "outputs": [],
   "source": []
  },
  {
   "cell_type": "code",
   "execution_count": 2,
   "metadata": {},
   "outputs": [],
   "source": [
    "plt.rcParams[\"figure.figsize\"] = (15,5)"
   ]
  },
  {
   "cell_type": "markdown",
   "metadata": {},
   "source": [
    "## Data structures"
   ]
  },
  {
   "cell_type": "code",
   "execution_count": 3,
   "metadata": {},
   "outputs": [],
   "source": [
    "\n",
    "\n",
    "crimeDict = {} #np.array([[], [], [], [], [], [], [], [], [], [], [], [], [], [], [], [], [], [], [], []])\n",
    "# ID\n",
    "# Case Number\n",
    "# Date\n",
    "# Block\n",
    "# IUCR\n",
    "# Primary Type\n",
    "# Description\n",
    "# Location Description\n",
    "# Arrest\n",
    "# Domestic\n",
    "# Beat\n",
    "# District\n",
    "# Ward\n",
    "# Community Area\n",
    "# FBI Code\n",
    "# X Coordinate\n",
    "# Y Coordinate\n",
    "# Year\n",
    "# Updated On\n",
    "# Latitude\n",
    "# Longitude\n",
    "# Location\n",
    "\n",
    "def setYearDicts ():\n",
    "    cd = {}\n",
    "    cd[\"ID\"] = []\n",
    "    cd[\"CaseNumber\"] = []\n",
    "    cd[\"Date\"] = []\n",
    "    cd[\"Block\"] = []\n",
    "    cd[\"IUCR\"] = []\n",
    "    cd[\"PrimaryType\"] = []\n",
    "    cd[\"Description\"] = []\n",
    "    cd[\"LocationDescription\"] = []\n",
    "    cd[\"Arrest\"] = []\n",
    "    cd[\"Domestic\"] = []\n",
    "    cd[\"Beat\"] = []\n",
    "    cd[\"District\"] = []\n",
    "    cd[\"Ward\"] = []\n",
    "    cd[\"CommunityArea\"] = []\n",
    "    cd[\"FBICode\"] = []\n",
    "    cd[\"XCoordinate\"] = []\n",
    "    cd[\"YCoordinate\"] = []\n",
    "    cd[\"Year\"] = []\n",
    "    cd[\"UpdatedOn\"] = []\n",
    "    cd[\"Latitude\"] = []\n",
    "    cd[\"Longitude\"] = []\n",
    "    cd[\"Location\"] = []\n",
    "    return cd"
   ]
  },
  {
   "cell_type": "markdown",
   "metadata": {},
   "source": [
    "## Readers"
   ]
  },
  {
   "cell_type": "code",
   "execution_count": null,
   "metadata": {},
   "outputs": [],
   "source": [
    "reader1 = DictReader(open('Chicago_Crimes_2001_to_2004.csv', 'rt', encoding='utf-8'))\n",
    "reader2 = DictReader(open('Chicago_Crimes_2005_to_2007.csv', 'rt', encoding='utf-8'))\n",
    "reader3 = DictReader(open('Chicago_Crimes_2008_to_2011.csv', 'rt', encoding='utf-8'))\n",
    "reader4 = DictReader(open('Chicago_Crimes_2012_to_2017.csv', 'rt', encoding='utf-8'))\n",
    "for x in range(4):\n",
    "    if (x == 0):\n",
    "        reader = reader1\n",
    "    if (x == 1):\n",
    "        reader = reader2\n",
    "        \n",
    "    if (x == 2):\n",
    "        reader = reader3\n",
    "        \n",
    "    if (x == 3):\n",
    "        reader = reader4\n",
    "\n",
    "\n",
    "    for row in reader:\n",
    "        if row[\"Year\"] not in crimeDict:\n",
    "            crimeDict[row[\"Year\"]] = setYearDicts()\n",
    "\n",
    "        crimeDict[row[\"Year\"]][\"ID\"].append(row[\"ID\"])\n",
    "        crimeDict[row[\"Year\"]][\"CaseNumber\"].append(row[\"Case Number\"])\n",
    "        crimeDict[row[\"Year\"]][\"Date\"].append(row[\"Date\"])\n",
    "        crimeDict[row[\"Year\"]][\"Block\"].append(row[\"Block\"])\n",
    "        crimeDict[row[\"Year\"]][\"IUCR\"].append(row[\"IUCR\"])\n",
    "        crimeDict[row[\"Year\"]][\"PrimaryType\"].append(row[\"Primary Type\"])\n",
    "        crimeDict[row[\"Year\"]][\"Description\"].append(row[\"Description\"])\n",
    "        crimeDict[row[\"Year\"]][\"LocationDescription\"].append(row[\"Location Description\"])\n",
    "        crimeDict[row[\"Year\"]][\"Arrest\"].append(row[\"Arrest\"])\n",
    "        crimeDict[row[\"Year\"]][\"Domestic\"].append(row[\"Domestic\"])\n",
    "        crimeDict[row[\"Year\"]][\"Beat\"].append(row[\"Beat\"])\n",
    "        crimeDict[row[\"Year\"]][\"District\"].append(row[\"District\"])\n",
    "        crimeDict[row[\"Year\"]][\"Ward\"].append(row[\"Ward\"])\n",
    "        crimeDict[row[\"Year\"]][\"CommunityArea\"].append(row[\"Community Area\"])\n",
    "        crimeDict[row[\"Year\"]][\"FBICode\"].append(row[\"FBI Code\"])\n",
    "        crimeDict[row[\"Year\"]][\"XCoordinate\"].append(row[\"X Coordinate\"])\n",
    "        crimeDict[row[\"Year\"]][\"YCoordinate\"].append(row[\"Y Coordinate\"])\n",
    "\n",
    "        try:\n",
    "            if(2001 <= int(row[\"Year\"]) <= 2017):\n",
    "                crimeDict[row[\"Year\"]][\"Year\"].append(row[\"Year\"])\n",
    "\n",
    "        except:\n",
    "            pass\n",
    "\n",
    "        crimeDict[row[\"Year\"]][\"UpdatedOn\"].append(row[\"Updated On\"])\n",
    "        crimeDict[row[\"Year\"]][\"Latitude\"].append(row[\"Latitude\"])\n",
    "        crimeDict[row[\"Year\"]][\"Longitude\"].append(row[\"Longitude\"])\n",
    "        crimeDict[row[\"Year\"]][\"Location\"].append(row[\"Location\"])\n"
   ]
  },
  {
   "cell_type": "code",
   "execution_count": null,
   "metadata": {},
   "outputs": [],
   "source": [
    "years = []\n",
    "count = []\n",
    "\n",
    "for year in crimeDict:\n",
    "    if year not in years and (2001 <= float(year) <= 2016):\n",
    "        years.append(year)\n",
    "        \n",
    "    if (2001 <= float(year) <= 2016):\n",
    "        count.append(len(crimeDict[year][\"ID\"]))"
   ]
  },
  {
   "cell_type": "code",
   "execution_count": null,
   "metadata": {},
   "outputs": [],
   "source": [
    "count = [c / 10000 for c in count]"
   ]
  },
  {
   "cell_type": "code",
   "execution_count": null,
   "metadata": {},
   "outputs": [],
   "source": [
    "count"
   ]
  },
  {
   "cell_type": "code",
   "execution_count": null,
   "metadata": {},
   "outputs": [],
   "source": [
    "plt.bar(years,count,color='xkcd:coral')\n",
    "plt.xticks(rotation=90)\n",
    "plt.xlabel(\"Year\")\n",
    "plt.ylabel(\"Count / 10000\")\n"
   ]
  },
  {
   "cell_type": "markdown",
   "metadata": {},
   "source": [
    "## Po letnih časih :)"
   ]
  },
  {
   "cell_type": "code",
   "execution_count": null,
   "metadata": {},
   "outputs": [],
   "source": [
    "seasonDict = {}"
   ]
  },
  {
   "cell_type": "code",
   "execution_count": null,
   "metadata": {},
   "outputs": [],
   "source": []
  },
  {
   "cell_type": "code",
   "execution_count": null,
   "metadata": {},
   "outputs": [],
   "source": [
    "for y in crimeDict:\n",
    "    for d in crimeDict[y][\"Date\"]:\n",
    "        parsed = datetime.strptime( d, \"%m/%d/%Y %I:%M:%S %p\" ).month\n",
    "        if parsed not in seasonDict:\n",
    "            seasonDict[parsed] = 0\n",
    "\n",
    "        seasonDict[parsed] += 1"
   ]
  },
  {
   "cell_type": "code",
   "execution_count": null,
   "metadata": {},
   "outputs": [],
   "source": [
    "for m in seasonDict:\n",
    "    seasonDict[m] = seasonDict[m] / 10000"
   ]
  },
  {
   "cell_type": "code",
   "execution_count": null,
   "metadata": {},
   "outputs": [],
   "source": [
    "seasonDict"
   ]
  },
  {
   "cell_type": "code",
   "execution_count": null,
   "metadata": {},
   "outputs": [],
   "source": []
  },
  {
   "cell_type": "code",
   "execution_count": null,
   "metadata": {},
   "outputs": [],
   "source": []
  },
  {
   "cell_type": "code",
   "execution_count": null,
   "metadata": {},
   "outputs": [],
   "source": [
    "x = list(seasonDict.keys())\n",
    "y = list(seasonDict.values())\n",
    "\n",
    "plt.bar(x,y,color='xkcd:coral')\n",
    "axes = plt.gca()\n",
    "axes.set_ylim([40,90])\n",
    "plt.xlabel(\"Month\")\n",
    "plt.xticks(np.arange(min(x), max(x)+1, 1.0))\n",
    "plt.ylabel(\"Count / 10000\")"
   ]
  },
  {
   "cell_type": "code",
   "execution_count": null,
   "metadata": {},
   "outputs": [],
   "source": [
    "seasons = [\"Spring\", \"Summer\", \"Fall\", \"Winter\"]\n",
    "seasonCounts = [seasonDict[4] + seasonDict[5] + seasonDict[6], seasonDict[7] + seasonDict[8] + seasonDict[9],seasonDict[10] + seasonDict[11] + seasonDict[12], seasonDict[1] + seasonDict[2] + seasonDict[3]]\n",
    "#    sum(seasonDict[4:7]),\n",
    "#    sum(seasonDict[7:10]),\n",
    "#    sum(seasonDict[10:1]),\n",
    "#    sum(seasonDict[1:4])\n"
   ]
  },
  {
   "cell_type": "code",
   "execution_count": null,
   "metadata": {},
   "outputs": [],
   "source": [
    "seasonCounts"
   ]
  },
  {
   "cell_type": "code",
   "execution_count": null,
   "metadata": {},
   "outputs": [],
   "source": [
    "axes = plt.gca()\n",
    "axes.set_ylim([150,250])\n",
    "plt.bar(seasons,seasonCounts,color='xkcd:coral')\n",
    "plt.xlabel(\"Season\")\n",
    "plt.ylabel(\"Count / 10000\")\n"
   ]
  },
  {
   "cell_type": "code",
   "execution_count": null,
   "metadata": {},
   "outputs": [],
   "source": []
  },
  {
   "cell_type": "code",
   "execution_count": null,
   "metadata": {},
   "outputs": [],
   "source": [
    "crimeDict[row[\"Year\"]][\"Date\"][0]\n",
    "\n"
   ]
  },
  {
   "cell_type": "code",
   "execution_count": null,
   "metadata": {},
   "outputs": [],
   "source": [
    "datetime.strptime( crimeDict[row[\"Year\"]][\"Date\"][0], \"%d/%m/%Y %I:%M:%S %p\" )"
   ]
  },
  {
   "cell_type": "code",
   "execution_count": null,
   "metadata": {},
   "outputs": [],
   "source": [
    "datetime.strptime( crimeDict[row[\"Year\"]][\"Date\"][0], \"%d/%m/%Y %I:%M:%S %p\" ).month"
   ]
  },
  {
   "cell_type": "code",
   "execution_count": null,
   "metadata": {},
   "outputs": [],
   "source": [
    "plt.bar(yearDict.keys(),list(yearDict.values()),color='tab:pink')\n",
    "plt.xticks(rotation=90)\n",
    "plt.xlabel(\"Year\")\n",
    "plt.ylabel(\"Count\")"
   ]
  },
  {
   "cell_type": "code",
   "execution_count": null,
   "metadata": {},
   "outputs": [],
   "source": [
    "crimeTypes = {}\n",
    "for year, value in crimeDict.items():   \n",
    "    for type in value[\"PrimaryType\"]:\n",
    "        if(type not in crimeTypes.keys()):\n",
    "            crimeTypes[type] = 1\n",
    "        else:\n",
    "            crimeTypes[type] += 1\n",
    "    "
   ]
  },
  {
   "cell_type": "code",
   "execution_count": null,
   "metadata": {},
   "outputs": [],
   "source": [
    "crime = []\n",
    "count = []\n",
    "for x,y in dict(sorted(crimeTypes.items(), key=lambda row:int(row[1]))).items():\n",
    "    crime.append(x)\n",
    "    count.append(float(int(y) / crimes) * 100)\n",
    "    \n",
    "fig, ax = plt.subplots(figsize=(15, 10))\n",
    "ax.barh(crime, count,color='xkcd:lavender')\n",
    "ax.set_xlabel(\"%Crime\")\n",
    "ax.set_ylabel(\"Crime Type\")  "
   ]
  },
  {
   "cell_type": "code",
   "execution_count": null,
   "metadata": {},
   "outputs": [],
   "source": []
  }
 ],
 "metadata": {
  "kernelspec": {
   "display_name": "Python 3",
   "language": "python",
   "name": "python3"
  },
  "language_info": {
   "codemirror_mode": {
    "name": "ipython",
    "version": 3
   },
   "file_extension": ".py",
   "mimetype": "text/x-python",
   "name": "python",
   "nbconvert_exporter": "python",
   "pygments_lexer": "ipython3",
   "version": "3.6.0"
  }
 },
 "nbformat": 4,
 "nbformat_minor": 2
}
